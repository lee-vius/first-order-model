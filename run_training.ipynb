{
 "cells": [
  {
   "cell_type": "markdown",
   "id": "ed39e5d2",
   "metadata": {},
   "source": [
    "# Training a FOM model\n",
    "This notebook will train a first order motion model based on a self-constructed dataset.\n",
    "\n",
    "* First we need to preprocess the data in the form that is required by the project.\n",
    "\n",
    "* Then start the training process. The training requires the corresponding `*.yaml` config file, and remember to properly set the config file. In this part, I'll try to start train from a pre-trained model."
   ]
  },
  {
   "cell_type": "markdown",
   "id": "98d0b417",
   "metadata": {},
   "source": [
    "## Data Preparation"
   ]
  },
  {
   "cell_type": "code",
   "execution_count": 9,
   "id": "3a575531",
   "metadata": {},
   "outputs": [],
   "source": [
    "# Data Preparation\n",
    "import os\n",
    "\n",
    "raw_path = \"../facial_dataset/data/clips\"\n",
    "target_path = \"data/anim-256\"\n",
    "\n",
    "if not os.path.exists(target_path):\n",
    "    os.mkdir(target_path)\n",
    "\n",
    "# create train/test folder in target folder\n",
    "if not os.path.exists(target_path + '/train'):\n",
    "    os.mkdir(target_path + '/train')\n",
    "if not os.path.exists(target_path + '/test'):\n",
    "    os.mkdir(target_path + '/test')"
   ]
  },
  {
   "cell_type": "code",
   "execution_count": 13,
   "id": "c149dcfe",
   "metadata": {},
   "outputs": [
    {
     "name": "stdout",
     "output_type": "stream",
     "text": [
      "['.DS_Store', '.ipynb_checkpoints', '._.DS_Store', 'film1', 'film10', 'film11', 'film12', 'film13', 'film14', 'film15', 'film16', 'film2', 'film3', 'film4', 'film5', 'film6', 'film7', 'film8', 'film9']\n",
      "Num sources: 296\n"
     ]
    }
   ],
   "source": [
    "# Generater filenames that will be copied into the folder\n",
    "import shutil\n",
    "import random\n",
    "\n",
    "def rand_generator(list_length, num_rand):\n",
    "        t = list(range(list_length))\n",
    "        random.shuffle(t)\n",
    "        return t[0:num_rand]\n",
    "\n",
    "train_path = target_path + '/train'\n",
    "test_path = target_path + '/test'\n",
    "\n",
    "num_files = len(os.listdir(train_path)) # decide the new file name starts with which number\n",
    "num_tests = len(os.listdir(test_path))\n",
    "src_files = []\n",
    "\n",
    "# get the list of source file path\n",
    "film_list = os.listdir(raw_path)\n",
    "print(film_list)\n",
    "for folder in film_list:\n",
    "    if len(folder) < 4:\n",
    "        continue\n",
    "    if folder[0: 4] != \"film\":\n",
    "        continue\n",
    "    temp_path = raw_path + '/' + folder\n",
    "    clips = os.listdir(temp_path)\n",
    "    for clip in clips:\n",
    "        if clip[-3:] != 'mp4':\n",
    "            continue\n",
    "        if clip[0] == '.':\n",
    "            continue\n",
    "        src_path = temp_path + '/' + clip\n",
    "        src_files.append(src_path)\n",
    "\n",
    "# separate 0.1 of all files as test files\n",
    "print(\"Num sources: {}\".format(len(src_files)))\n",
    "test_index = rand_generator(len(src_files), 26)"
   ]
  },
  {
   "cell_type": "code",
   "execution_count": 14,
   "id": "855aa70e",
   "metadata": {},
   "outputs": [],
   "source": [
    "# Copy files\n",
    "for i, src in enumerate(src_files):\n",
    "    if i not in test_index:\n",
    "        target_name = train_path + '/train_{}'.format(num_files)\n",
    "        # Here can have more options\n",
    "        # Now just copy .mp4 files\n",
    "        # As instructed, we can generate folders containing .png of each frame in the video\n",
    "        shutil.copy(src, target_name + '.mp4')\n",
    "        num_files += 1\n",
    "    else:\n",
    "        target_name = test_path + '/test_{}'.format(num_tests)\n",
    "        shutil.copy(src, target_name + '.mp4')\n",
    "        num_tests += 1"
   ]
  },
  {
   "cell_type": "markdown",
   "id": "593c6cac",
   "metadata": {},
   "source": [
    "## Train section\n",
    "Now data is prepared. We need to train a FOM model."
   ]
  },
  {
   "cell_type": "code",
   "execution_count": 8,
   "id": "10411662",
   "metadata": {},
   "outputs": [
    {
     "name": "stderr",
     "output_type": "stream",
     "text": [
      "'pwd' 不是内部或外部命令，也不是可运行的程序\n",
      "或批处理文件。\n"
     ]
    }
   ],
   "source": [
    "!pwd\n",
    "#!python run.py --config config/anim-256.yaml"
   ]
  },
  {
   "cell_type": "code",
   "execution_count": null,
   "id": "743fb02f",
   "metadata": {},
   "outputs": [],
   "source": []
  },
  {
   "cell_type": "markdown",
   "id": "4fcdb416",
   "metadata": {},
   "source": [
    "## Label Preparation"
   ]
  },
  {
   "cell_type": "code",
   "execution_count": 6,
   "id": "70f478b2",
   "metadata": {},
   "outputs": [],
   "source": [
    "# Data Preparation\n",
    "import os\n",
    "\n",
    "raw_path = \"../facial_dataset/data/test/vox2_test_mp4/mp4\"\n",
    "target_path = \"data/real-256\"\n",
    "\n",
    "if not os.path.exists(target_path):\n",
    "    os.mkdir(target_path)\n",
    "\n",
    "# create train/test folder in target folder\n",
    "if not os.path.exists(target_path + '/train'):\n",
    "    os.mkdir(target_path + '/train')\n",
    "if not os.path.exists(target_path + '/test'):\n",
    "    os.mkdir(target_path + '/test')"
   ]
  },
  {
   "cell_type": "code",
   "execution_count": 7,
   "id": "b6c6c24b",
   "metadata": {},
   "outputs": [
    {
     "name": "stdout",
     "output_type": "stream",
     "text": [
      "118\n",
      "Num sources: 36237\n",
      "Num of picked sources: 1000\n"
     ]
    }
   ],
   "source": [
    "# Generater filenames that will be copied into the folder\n",
    "import shutil\n",
    "import random\n",
    "\n",
    "def rand_generator(list_length, num_rand):\n",
    "        t = list(range(list_length))\n",
    "        random.shuffle(t)\n",
    "        return t[0:num_rand]\n",
    "\n",
    "train_path = target_path + '/train'\n",
    "test_path = target_path + '/test'\n",
    "\n",
    "num_files = len(os.listdir(train_path)) # decide the new file name starts with which number\n",
    "num_tests = len(os.listdir(test_path))\n",
    "src_files = []\n",
    "\n",
    "# get the list of source file path\n",
    "film_list = os.listdir(raw_path)\n",
    "print(len(film_list))\n",
    "for folder in film_list:\n",
    "    if len(folder) < 4:\n",
    "        continue\n",
    "    if folder[0: 2] != \"id\":\n",
    "        continue\n",
    "    temp_path = raw_path + '/' + folder\n",
    "    subfolders = os.listdir(temp_path)\n",
    "    # loop over the secondary directories\n",
    "    for sub in subfolders:\n",
    "        if sub[0] == '.':\n",
    "            continue\n",
    "        final_path = temp_path + '/' + sub\n",
    "        clips = os.listdir(final_path)\n",
    "        for clip in clips:\n",
    "            if clip[-3:] != 'mp4':\n",
    "                continue\n",
    "            if clip[0] == '.':\n",
    "                continue\n",
    "            src_path = final_path + '/' + clip\n",
    "            src_files.append(src_path)\n",
    "\n",
    "# separate 0.1 of all files as test files\n",
    "print(\"Num sources: {}\".format(len(src_files)))\n",
    "pick_index = rand_generator(len(src_files), 1000)\n",
    "print(\"Num of picked sources: {}\".format(len(pick_index)))\n",
    "test_index = rand_generator(len(pick_index), 100)"
   ]
  },
  {
   "cell_type": "code",
   "execution_count": 8,
   "id": "2163184b",
   "metadata": {},
   "outputs": [],
   "source": [
    "import cv2\n",
    "\n",
    "# Copy files\n",
    "for i, src in enumerate(pick_index):\n",
    "    if i not in test_index:\n",
    "        target_name = train_path + '/train_{}'.format(num_files)\n",
    "        # Here can have more options\n",
    "        # Now just copy .mp4 files\n",
    "        # As instructed, we can generate folders containing .png of each frame in the video\n",
    "        videoWriter = cv2.VideoWriter(target_name + '.mp4', cv2.VideoWriter_fourcc('M', 'P', '4', 'V'), 24, (256, 256))\n",
    "        cap = cv2.VideoCapture(src_files[src])\n",
    "        frame_index = 0\n",
    "        while True:\n",
    "            ret, frame = cap.read()\n",
    "            if not ret:\n",
    "                break\n",
    "            frame = cv2.resize(frame, (256, 256))\n",
    "            videoWriter.write(frame)\n",
    "        videoWriter.release()\n",
    "        num_files += 1\n",
    "    else:\n",
    "        target_name = test_path + '/test_{}'.format(num_tests)\n",
    "        videoWriter = cv2.VideoWriter(target_name + '.mp4', cv2.VideoWriter_fourcc('M', 'P', '4', 'V'), 24, (256, 256))        \n",
    "        cap = cv2.VideoCapture(src_files[src])\n",
    "        frame_index = 0\n",
    "        while True:\n",
    "            ret, frame = cap.read()\n",
    "            if not ret:\n",
    "                break\n",
    "            frame = cv2.resize(frame, (256, 256))\n",
    "            videoWriter.write(frame)\n",
    "        videoWriter.release()\n",
    "        num_tests += 1"
   ]
  },
  {
   "cell_type": "code",
   "execution_count": null,
   "id": "075a55f8",
   "metadata": {},
   "outputs": [],
   "source": []
  }
 ],
 "metadata": {
  "kernelspec": {
   "display_name": "Python 3",
   "language": "python",
   "name": "python3"
  },
  "language_info": {
   "codemirror_mode": {
    "name": "ipython",
    "version": 3
   },
   "file_extension": ".py",
   "mimetype": "text/x-python",
   "name": "python",
   "nbconvert_exporter": "python",
   "pygments_lexer": "ipython3",
   "version": "3.6.13"
  }
 },
 "nbformat": 4,
 "nbformat_minor": 5
}
