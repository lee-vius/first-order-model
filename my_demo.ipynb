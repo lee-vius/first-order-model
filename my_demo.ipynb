{
 "cells": [
  {
   "cell_type": "code",
   "execution_count": null,
   "id": "c43e23b9",
   "metadata": {},
   "outputs": [],
   "source": [
    "# Import the packages needed for demonstration\n",
    "\n",
    "import imageio\n",
    "import numpy as np\n",
    "import matplotlib.pyplot as plt\n",
    "import matplotlib.animation as animation\n",
    "from skimage.transform import resize\n",
    "from IPython.display import HTML\n",
    "\n",
    "from demo import make_animation\n",
    "from skimage import img_as_ubyte\n",
    "\n",
    "import warnings\n",
    "warnings.filterwarnings(\"ignore\")"
   ]
  },
  {
   "cell_type": "code",
   "execution_count": null,
   "id": "6acda722",
   "metadata": {},
   "outputs": [],
   "source": [
    "# read in the source video and target image\n",
    "target_path = \"raw_data/targets/3.png\"\n",
    "source_path = \"raw_data/sources/00048.mp4\"\n",
    "\n",
    "source_image = imageio.imread(target_path)\n",
    "reader = imageio.get_reader(source_path)\n",
    "\n",
    "# pre process the video and image\n",
    "source_image = resize(source_image, (256, 256))[..., :3]\n",
    "fps = reader.get_meta_data()['fps'] # number of frames\n",
    "\n",
    "# Add each frame of the video\n",
    "driving_video = []\n",
    "try:\n",
    "    for im in reader:\n",
    "        driving_video.append(im)\n",
    "except RuntimeError:\n",
    "    pass\n",
    "reader.close()\n",
    "# resize each frame in the video to 256x256\n",
    "driving_video = [resize(frame, (256, 256))[..., :3] for frame in driving_video]"
   ]
  },
  {
   "cell_type": "code",
   "execution_count": null,
   "id": "6ad47fcc",
   "metadata": {},
   "outputs": [],
   "source": [
    "# A function that generates a piece of video\n",
    "def display(source, driving, generated=None):\n",
    "    fig = plt.figure(figsize=(8 + 4 * (generated is not None), 6))\n",
    "\n",
    "    ims = []\n",
    "    for i in range(len(driving)):\n",
    "        cols = [source]\n",
    "        cols.append(driving[i])\n",
    "        if generated is not None:\n",
    "            cols.append(generated[i])\n",
    "        im = plt.imshow(np.concatenate(cols, axis=1), animated=True)\n",
    "        plt.axis('off')\n",
    "        ims.append([im])\n",
    "\n",
    "    ani = animation.ArtistAnimation(fig, ims, interval=50, repeat_delay=1000)\n",
    "    plt.close()\n",
    "    return ani"
   ]
  },
  {
   "cell_type": "code",
   "execution_count": null,
   "id": "f1e79bf7",
   "metadata": {},
   "outputs": [],
   "source": [
    "# Load the deep network\n",
    "from demo import load_checkpoints\n",
    "generator, kp_detector = load_checkpoints(config_path='config/vox-256.yaml', \n",
    "                            checkpoint_path='pre_trains/vox-cpk.pth.tar', cpu=True)"
   ]
  },
  {
   "cell_type": "code",
   "execution_count": null,
   "id": "6b2bb193",
   "metadata": {},
   "outputs": [],
   "source": [
    "# Generate animation\n",
    "predictions = make_animation(source_image, driving_video, generator, kp_detector, relative=True, cpu=True)"
   ]
  },
  {
   "cell_type": "code",
   "execution_count": null,
   "id": "ed0e5c86",
   "metadata": {},
   "outputs": [],
   "source": [
    "# show the video\n",
    "HTML(display(source_image, driving_video, predictions).to_html5_video())"
   ]
  },
  {
   "cell_type": "code",
   "execution_count": null,
   "id": "60d3d1a2",
   "metadata": {},
   "outputs": [],
   "source": []
  }
 ],
 "metadata": {
  "kernelspec": {
   "display_name": "Python 3",
   "language": "python",
   "name": "python3"
  },
  "language_info": {
   "codemirror_mode": {
    "name": "ipython",
    "version": 3
   },
   "file_extension": ".py",
   "mimetype": "text/x-python",
   "name": "python",
   "nbconvert_exporter": "python",
   "pygments_lexer": "ipython3",
   "version": "3.6.13"
  }
 },
 "nbformat": 4,
 "nbformat_minor": 5
}
